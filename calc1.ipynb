{
 "cells": [
  {
   "cell_type": "code",
   "execution_count": 259,
   "id": "daffc68e",
   "metadata": {},
   "outputs": [],
   "source": [
    "class operation:\n",
    "    def __init__(self):\n",
    "        self.num_list=[]\n",
    "        \n",
    "    def add_to_num_list(self,new_number):\n",
    "        self.num_list.append(new_number)\n",
    "    \n",
    "    def print_list(self):\n",
    "        print(self.num_list)\n",
    "    def lenth_of_list(self):\n",
    "        return len(self.num_list)\n",
    "    def summition(self):\n",
    "        self.sum = 0\n",
    "        for i in range(len(self.num_list)):\n",
    "            self.sum =self.sum + self.num_list[i]\n",
    "            i = i+1\n",
    "        print(self.sum)\n",
    "        return self.sum\n",
    "    def subtract(self):\n",
    "        i = 1\n",
    "        while len(self.num_list) < 0:\n",
    "            self.num_list[0] = int(self.num_list[0] - self.num_list[i])\n",
    "            i = i+1\n",
    "            print(int(self.num_list[0]))\n",
    "            return int(self.num_list[0])"
   ]
  },
  {
   "cell_type": "code",
   "execution_count": 260,
   "id": "9f4793e7",
   "metadata": {},
   "outputs": [],
   "source": [
    "op = operation()"
   ]
  },
  {
   "cell_type": "code",
   "execution_count": 261,
   "id": "3ac4c86b",
   "metadata": {},
   "outputs": [],
   "source": [
    "op.add_to_num_list(30)"
   ]
  },
  {
   "cell_type": "code",
   "execution_count": 262,
   "id": "14986441",
   "metadata": {},
   "outputs": [
    {
     "name": "stdout",
     "output_type": "stream",
     "text": [
      "1\n"
     ]
    }
   ],
   "source": [
    "print(op.lenth_of_list())"
   ]
  },
  {
   "cell_type": "code",
   "execution_count": 263,
   "id": "938a46e5",
   "metadata": {},
   "outputs": [
    {
     "name": "stdout",
     "output_type": "stream",
     "text": [
      "30\n"
     ]
    },
    {
     "data": {
      "text/plain": [
       "30"
      ]
     },
     "execution_count": 263,
     "metadata": {},
     "output_type": "execute_result"
    }
   ],
   "source": [
    "op.summition()"
   ]
  },
  {
   "cell_type": "code",
   "execution_count": 264,
   "id": "c87fcbd9",
   "metadata": {},
   "outputs": [
    {
     "name": "stdout",
     "output_type": "stream",
     "text": [
      "[30]\n"
     ]
    }
   ],
   "source": [
    "op.print_list()"
   ]
  },
  {
   "cell_type": "code",
   "execution_count": 265,
   "id": "b37bfd9e",
   "metadata": {},
   "outputs": [],
   "source": [
    "op.add_to_num_list(25)"
   ]
  },
  {
   "cell_type": "code",
   "execution_count": 266,
   "id": "dadbf389",
   "metadata": {},
   "outputs": [
    {
     "name": "stdout",
     "output_type": "stream",
     "text": [
      "55\n"
     ]
    },
    {
     "data": {
      "text/plain": [
       "55"
      ]
     },
     "execution_count": 266,
     "metadata": {},
     "output_type": "execute_result"
    }
   ],
   "source": [
    "op.summition()"
   ]
  },
  {
   "cell_type": "code",
   "execution_count": 267,
   "id": "11c28e82",
   "metadata": {},
   "outputs": [
    {
     "name": "stdout",
     "output_type": "stream",
     "text": [
      "[30, 25]\n"
     ]
    }
   ],
   "source": [
    "op.print_list()"
   ]
  },
  {
   "cell_type": "code",
   "execution_count": 268,
   "id": "93552d96",
   "metadata": {},
   "outputs": [
    {
     "name": "stdout",
     "output_type": "stream",
     "text": [
      "55\n"
     ]
    },
    {
     "data": {
      "text/plain": [
       "55"
      ]
     },
     "execution_count": 268,
     "metadata": {},
     "output_type": "execute_result"
    }
   ],
   "source": [
    "op.summition()"
   ]
  },
  {
   "cell_type": "code",
   "execution_count": 269,
   "id": "afa90918",
   "metadata": {},
   "outputs": [],
   "source": [
    "op.add_to_num_list(100)"
   ]
  },
  {
   "cell_type": "code",
   "execution_count": 270,
   "id": "b033f7af",
   "metadata": {},
   "outputs": [
    {
     "name": "stdout",
     "output_type": "stream",
     "text": [
      "155\n"
     ]
    },
    {
     "data": {
      "text/plain": [
       "155"
      ]
     },
     "execution_count": 270,
     "metadata": {},
     "output_type": "execute_result"
    }
   ],
   "source": [
    "op.summition()"
   ]
  },
  {
   "cell_type": "code",
   "execution_count": 271,
   "id": "966a19ba",
   "metadata": {},
   "outputs": [
    {
     "name": "stdout",
     "output_type": "stream",
     "text": [
      "None\n"
     ]
    }
   ],
   "source": [
    "print(op.subtract())"
   ]
  },
  {
   "cell_type": "code",
   "execution_count": null,
   "id": "7324e388",
   "metadata": {},
   "outputs": [],
   "source": []
  },
  {
   "cell_type": "code",
   "execution_count": null,
   "id": "4d9cf9a4",
   "metadata": {},
   "outputs": [],
   "source": []
  }
 ],
 "metadata": {
  "kernelspec": {
   "display_name": "Python 3",
   "language": "python",
   "name": "python3"
  },
  "language_info": {
   "codemirror_mode": {
    "name": "ipython",
    "version": 3
   },
   "file_extension": ".py",
   "mimetype": "text/x-python",
   "name": "python",
   "nbconvert_exporter": "python",
   "pygments_lexer": "ipython3",
   "version": "3.8.8"
  }
 },
 "nbformat": 4,
 "nbformat_minor": 5
}
